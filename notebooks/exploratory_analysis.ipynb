{
    "cells": [
     {
      "cell_type": "markdown",
      "metadata": {},
      "source": [
       "# Image Segmentation Exploratory Analysis\n",
       "\n",
       "This notebook demonstrates how to load images, visualize them, and apply K-means segmentation."
      ]
     },
     {
      "cell_type": "code",
      "execution_count": 1,
      "metadata": {},
      "outputs": [],
      "source": [
       "import cv2\n",
       "import numpy as np\n",
       "import matplotlib.pyplot as plt\n",
       "from src.data_preprocessing import load_images_from_folder\n",
       "from src.segmentation import kmeans_segmentation\n",
       "from src.utils import show_image"
      ]
     },
     {
      "cell_type": "code",
      "execution_count": 2,
      "metadata": {},
      "outputs": [],
      "source": [
       "# Load images from the raw data folder\n",
       "images = load_images_from_folder('../data/raw/')\n",
       "\n",
       "# Display the first image\n",
       "show_image(images[0], title='Original Image')"
      ]
     },
     {
      "cell_type": "code",
      "execution_count": 3,
      "metadata": {},
      "outputs": [],
      "source": [
       "# Apply K-means segmentation\n",
       "segmented_image = kmeans_segmentation(images[0], k=3)\n",
       "\n",
       "# Display the segmented image\n",
       "show_image(segmented_image, title='Segmented Image')"
      ]
     },
     {
      "cell_type": "markdown",
      "metadata": {},
      "source": [
       "## Conclusion\n",
       "\n",
       "In this notebook, we loaded an image, applied K-means segmentation, and visualized the results. You can explore other images in the dataset and try different segmentation techniques."
      ]
     }
    ],
    "metadata": {
     "kernelspec": {
      "display_name": "Python 3",
      "language": "python",
      "name": "python3"
     },
     "language_info": {
      "codemirror_mode": {
       "name": "ipython",
       "version": 3
      },
      "file_extension": ".py",
      "mimetype": "text/x-python",
      "name": "python",
      "nbconvert_exporter": "python",
      "pygments_lexer": "ipython3",
      "version": "3.8.5"
     }
    },
    "nbformat": 4,
    "nbformat_minor": 4
   }
   